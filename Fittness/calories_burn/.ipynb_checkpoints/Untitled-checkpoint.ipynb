{
 "cells": [
  {
   "cell_type": "markdown",
   "metadata": {},
   "source": [
    "Now it's time to start developing the package. Specific expectations for this step are:\n",
    "- Set-up an appropriate directory structure (file and folder organization) for your package [2 marks].\n",
    "- Use Python to write the package that contains at least four useful functions. These are the functions you proposed in the previous step. [8 marks].\n",
    "    - Create a package with two subpackages. Each subpackage must have at least two modules and each module should have at least three methods/functions. Each member of the group is expected to do one of the subpackages. \n",
    "    - One module must use inheritance.\n",
    "    - The person who did not write a particular subpackage must write the documentation for the package as well as create a test Python file demonstrating how to use the package.\n",
    "- Write a .md file explaining the function details and how they work. Create a test Python file demonstrating how to use the package [2 marks].\n",
    "- Use version control features to collaborate with your team members. Have a Git history to demonstrates that the group members contributed equally [4 marks]."
   ]
  },
  {
   "cell_type": "markdown",
   "metadata": {},
   "source": [
    "In the subpackage **calories_burned**, it has two modules, *records* and *monitoring*. *Records* is the super class of *Monitoring* and it has 5 funcitons.\n",
    "\n",
    "***Records***\n",
    "1. In the initializing stage. It takes name,gender,age,height,weight as arguments \n",
    "2. **Records.display()** takes self as argument and print out the details such as name, gender,age ,height and weight in the initializing stage\n",
    "3. **Records.BMI()** calculates the body mass index based on generated perosnal information and tells the weight status in the ragne from underweiht to obse.\n",
    "4. **Records.BMR()** calcualtes the Basal metabolic rate. BMR is a measurement of the number of calories needed to perform a person's most basic funcitons such as breathing. Each gender has different formular to calculate BMR\n",
    "    - ***Female_bmr= 655 + (9.6 * self.weight) + (1.8* self.height- (4.7* self.age))**\n",
    "    - ***Male_bmr= 66 + (13.7*self.weight) + (5*self.height) - (6.8*self.age)***\n",
    "5. **Records.totalcal()** calcuates the total borned calories based on BMR, intensity of excerise and the excerise time.Excersise intensity and time are getting from the user's input, for simlicity reason, intensity has only 3 levels 3(Light),4(Moderate),7(Vigorous) and time is measured in minutes.\n",
    "\n",
    "\n",
    "***Monitoring***\n",
    "Monitoring is the sub class of Records\n",
    "1. In the initializing stage. It  takes all the arguemtns from Records and an additional new arguments calory \n",
    "2. \n",
    "\n",
    "\n",
    "   "
   ]
  },
  {
   "cell_type": "code",
   "execution_count": null,
   "metadata": {},
   "outputs": [],
   "source": []
  }
 ],
 "metadata": {
  "kernelspec": {
   "display_name": "Python 3",
   "language": "python",
   "name": "python3"
  },
  "language_info": {
   "codemirror_mode": {
    "name": "ipython",
    "version": 3
   },
   "file_extension": ".py",
   "mimetype": "text/x-python",
   "name": "python",
   "nbconvert_exporter": "python",
   "pygments_lexer": "ipython3",
   "version": "3.8.3"
  }
 },
 "nbformat": 4,
 "nbformat_minor": 4
}
